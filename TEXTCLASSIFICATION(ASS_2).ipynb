{
  "nbformat": 4,
  "nbformat_minor": 0,
  "metadata": {
    "colab": {
      "provenance": [],
      "authorship_tag": "ABX9TyMU0PvnyO5RN4z7xtf7n0HG",
      "include_colab_link": true
    },
    "kernelspec": {
      "name": "python3",
      "display_name": "Python 3"
    },
    "language_info": {
      "name": "python"
    }
  },
  "cells": [
    {
      "cell_type": "markdown",
      "metadata": {
        "id": "view-in-github",
        "colab_type": "text"
      },
      "source": [
        "<a href=\"https://colab.research.google.com/github/AkSharma9604/AKsharma/blob/main/TEXTCLASSIFICATION(ASS_2).ipynb\" target=\"_parent\"><img src=\"https://colab.research.google.com/assets/colab-badge.svg\" alt=\"Open In Colab\"/></a>"
      ]
    },
    {
      "cell_type": "code",
      "execution_count": 6,
      "metadata": {
        "id": "PYBZrw183bN8"
      },
      "outputs": [],
      "source": [
        "import numpy as np\n",
        "import pandas as pd\n"
      ]
    },
    {
      "cell_type": "code",
      "source": [
        "\n",
        "# Input the number of models and criteria\n",
        "num_models = int(input(\"Enter the number of models: \"))\n",
        "\n",
        "# Initialize an empty list to store the data\n",
        "data = {'Model': []}\n",
        "criteria = ['Accuracy', 'F1-Score', 'Inference Time (ms)', 'Memory Usage (MB)', 'Model Size (MB)']\n",
        "\n",
        "# Initialize data dictionary with criteria\n",
        "for criterion in criteria:\n",
        "    data[criterion] = []\n",
        "\n",
        "# Collect data from the user\n",
        "print(\"\\nEnter the data for each model:\")\n",
        "for i in range(num_models):\n",
        "    model_name = input(f\"\\nEnter the name of Model {i+1}: \")\n",
        "    data['Model'].append(model_name)\n",
        "\n",
        "    for criterion in criteria:\n",
        "        value = float(input(f\"Enter {criterion} for {model_name}: \"))\n",
        "        data[criterion].append(value)\n",
        "\n",
        "# Create a DataFrame\n",
        "df = pd.DataFrame(data)\n",
        "\n",
        "# Display the input data\n",
        "print(\"\\nInput Data:\")\n",
        "print(df)\n"
      ],
      "metadata": {
        "colab": {
          "base_uri": "https://localhost:8080/"
        },
        "id": "Ev-TBhu73ftp",
        "outputId": "1c2d5b6c-d9d4-4a88-f1db-a3edcd3496f6"
      },
      "execution_count": 8,
      "outputs": [
        {
          "output_type": "stream",
          "name": "stdout",
          "text": [
            "Enter the number of models: 2\n",
            "\n",
            "Enter the data for each model:\n",
            "\n",
            "Enter the name of Model 1: KUSHAL\n",
            "Enter Accuracy for KUSHAL: 89\n",
            "Enter F1-Score for KUSHAL: 56\n",
            "Enter Inference Time (ms) for KUSHAL: 57\n",
            "Enter Memory Usage (MB) for KUSHAL: 89\n",
            "Enter Model Size (MB) for KUSHAL: 6\n",
            "\n",
            "Enter the name of Model 2: AKSHIT\n",
            "Enter Accuracy for AKSHIT: 89\n",
            "Enter F1-Score for AKSHIT: 78\n",
            "Enter Inference Time (ms) for AKSHIT: 90\n",
            "Enter Memory Usage (MB) for AKSHIT: 67\n",
            "Enter Model Size (MB) for AKSHIT: 5\n",
            "\n",
            "Input Data:\n",
            "    Model  Accuracy  F1-Score  Inference Time (ms)  Memory Usage (MB)  \\\n",
            "0  KUSHAL      89.0      56.0                 57.0               89.0   \n",
            "1  AKSHIT      89.0      78.0                 90.0               67.0   \n",
            "\n",
            "   Model Size (MB)  \n",
            "0              6.0  \n",
            "1              5.0  \n"
          ]
        }
      ]
    },
    {
      "cell_type": "code",
      "source": [
        "# Criteria for minimization\n",
        "criteria_min = ['Inference Time (ms)', 'Memory Usage (MB)', 'Model Size (MB)']\n",
        "\n",
        "# Normalize the data\n",
        "def normalize(df, criteria_min):\n",
        "    normalized_df = df.copy()\n",
        "\n",
        "    for column in df.columns[1:]:\n",
        "        if column in criteria_min:\n",
        "            # For minimization\n",
        "            min_val = df[column].min()\n",
        "            max_val = df[column].max()\n",
        "            normalized_df[column] = (max_val - df[column]) / (max_val - min_val)\n",
        "        else:\n",
        "            # For maximization\n",
        "            min_val = df[column].min()\n",
        "            max_val = df[column].max()\n",
        "            normalized_df[column] = (df[column] - min_val) / (max_val - min_val)\n",
        "\n",
        "    return normalized_df\n",
        "\n",
        "# Normalize the data\n",
        "normalized_df = normalize(df, criteria_min)\n",
        "\n",
        "# Display the normalized data\n",
        "print(\"\\nNormalized Data:\")\n",
        "print(normalized_df)\n"
      ],
      "metadata": {
        "colab": {
          "base_uri": "https://localhost:8080/"
        },
        "id": "asexYfPx3lRk",
        "outputId": "c6cf2e33-5038-4f38-ac83-6d46de065890"
      },
      "execution_count": 9,
      "outputs": [
        {
          "output_type": "stream",
          "name": "stdout",
          "text": [
            "\n",
            "Normalized Data:\n",
            "    Model  Accuracy  F1-Score  Inference Time (ms)  Memory Usage (MB)  \\\n",
            "0  KUSHAL       NaN       0.0                  1.0                0.0   \n",
            "1  AKSHIT       NaN       1.0                  0.0                1.0   \n",
            "\n",
            "   Model Size (MB)  \n",
            "0              0.0  \n",
            "1              1.0  \n"
          ]
        }
      ]
    },
    {
      "cell_type": "code",
      "source": [
        "# Input the number of models and criteria\n",
        "num_models = int(input(\"Enter the number of models: \"))\n",
        "\n",
        "# Initialize an empty list to store the data\n",
        "data = {'Model': []}\n",
        "# Define criteria here\n",
        "criteria = ['Accuracy', 'F1-Score', 'Inference Time (ms)', 'Memory Usage (MB)', 'Model Size (MB)']\n",
        "\n",
        "# Initialize data dictionary with criteria\n",
        "for criterion in criteria:\n",
        "    data[criterion] = []\n",
        "\n",
        "# ... (rest of your code)\n",
        "print(\"\\nEnter the weights for each criterion (values should sum to 1):\")\n",
        "weights = {}\n",
        "for criterion in criteria:\n",
        "    weight = float(input(f\"Weight for {criterion}: \"))\n",
        "    weights[criterion] = weight\n",
        "\n",
        "# Check if weights sum to 1\n",
        "if round(sum(weights.values()), 4) != 1.0:\n",
        "    print(\"\\nError: Weights do not sum to 1. Please restart and enter valid weights.\")\n",
        "    exit()\n",
        "\n",
        "# Display weights\n",
        "print(\"\\nWeights:\")\n",
        "print(weights)\n"
      ],
      "metadata": {
        "colab": {
          "base_uri": "https://localhost:8080/"
        },
        "id": "l1ACNeGz4Bd9",
        "outputId": "f110b6e5-5004-4d7e-ab62-2eed46bb39e3"
      },
      "execution_count": 11,
      "outputs": [
        {
          "output_type": "stream",
          "name": "stdout",
          "text": [
            "Enter the number of models: 2\n",
            "\n",
            "Enter the weights for each criterion (values should sum to 1):\n",
            "Weight for Accuracy: 0.2\n",
            "Weight for F1-Score: 0.2\n",
            "Weight for Inference Time (ms): 0.2\n",
            "Weight for Memory Usage (MB): 0.2\n",
            "Weight for Model Size (MB): 0.2\n",
            "\n",
            "Weights:\n",
            "{'Accuracy': 0.2, 'F1-Score': 0.2, 'Inference Time (ms)': 0.2, 'Memory Usage (MB)': 0.2, 'Model Size (MB)': 0.2}\n"
          ]
        }
      ]
    },
    {
      "cell_type": "code",
      "source": [
        "# Calculate the weighted normalized decision matrix\n",
        "weighted_normalized_df = normalized_df.copy()\n",
        "\n",
        "for column in weighted_normalized_df.columns[1:]:\n",
        "    weighted_normalized_df[column] = weighted_normalized_df[column] * weights[column]\n",
        "\n",
        "# Display the weighted normalized decision matrix\n",
        "print(\"\\nWeighted Normalized Decision Matrix:\")\n",
        "print(weighted_normalized_df)\n"
      ],
      "metadata": {
        "colab": {
          "base_uri": "https://localhost:8080/"
        },
        "id": "V40Tp_R543dm",
        "outputId": "5cf93eab-a2ca-4825-f1ba-679779273a00"
      },
      "execution_count": 12,
      "outputs": [
        {
          "output_type": "stream",
          "name": "stdout",
          "text": [
            "\n",
            "Weighted Normalized Decision Matrix:\n",
            "    Model  Accuracy  F1-Score  Inference Time (ms)  Memory Usage (MB)  \\\n",
            "0  KUSHAL       NaN       0.0                  0.2                0.0   \n",
            "1  AKSHIT       NaN       0.2                  0.0                0.2   \n",
            "\n",
            "   Model Size (MB)  \n",
            "0              0.0  \n",
            "1              0.2  \n"
          ]
        }
      ]
    },
    {
      "cell_type": "code",
      "source": [
        "# Calculate the ideal and negative-ideal solutions\n",
        "ideal_solution = weighted_normalized_df.iloc[:, 1:].max()\n",
        "negative_ideal_solution = weighted_normalized_df.iloc[:, 1:].min()\n",
        "\n",
        "# Display ideal and negative-ideal solutions\n",
        "print(\"\\nIdeal Solution:\")\n",
        "print(ideal_solution)\n",
        "print(\"\\nNegative-Ideal Solution:\")\n",
        "print(negative_ideal_solution)\n"
      ],
      "metadata": {
        "colab": {
          "base_uri": "https://localhost:8080/"
        },
        "id": "Pyj752I85jok",
        "outputId": "5355b752-80f4-496d-f483-d5f400032cae"
      },
      "execution_count": 13,
      "outputs": [
        {
          "output_type": "stream",
          "name": "stdout",
          "text": [
            "\n",
            "Ideal Solution:\n",
            "Accuracy               NaN\n",
            "F1-Score               0.2\n",
            "Inference Time (ms)    0.2\n",
            "Memory Usage (MB)      0.2\n",
            "Model Size (MB)        0.2\n",
            "dtype: float64\n",
            "\n",
            "Negative-Ideal Solution:\n",
            "Accuracy               NaN\n",
            "F1-Score               0.0\n",
            "Inference Time (ms)    0.0\n",
            "Memory Usage (MB)      0.0\n",
            "Model Size (MB)        0.0\n",
            "dtype: float64\n"
          ]
        }
      ]
    },
    {
      "cell_type": "code",
      "source": [
        "# Function to calculate Euclidean distance\n",
        "def euclidean_distance(df, solution):\n",
        "    return np.sqrt(((df - solution) ** 2).sum(axis=1))\n",
        "\n",
        "# Calculate distances\n",
        "distance_to_ideal = euclidean_distance(weighted_normalized_df.iloc[:, 1:], ideal_solution)\n",
        "distance_to_negative_ideal = euclidean_distance(weighted_normalized_df.iloc[:, 1:], negative_ideal_solution)\n",
        "\n",
        "# Display distances\n",
        "print(\"\\nDistance to Ideal Solution:\")\n",
        "print(distance_to_ideal)\n",
        "print(\"\\nDistance to Negative-Ideal Solution:\")\n",
        "print(distance_to_negative_ideal)\n"
      ],
      "metadata": {
        "colab": {
          "base_uri": "https://localhost:8080/"
        },
        "id": "-GTfOjS75nHK",
        "outputId": "9c3cc325-9209-4c35-e02a-0f06386de864"
      },
      "execution_count": 14,
      "outputs": [
        {
          "output_type": "stream",
          "name": "stdout",
          "text": [
            "\n",
            "Distance to Ideal Solution:\n",
            "0    0.34641\n",
            "1    0.20000\n",
            "dtype: float64\n",
            "\n",
            "Distance to Negative-Ideal Solution:\n",
            "0    0.20000\n",
            "1    0.34641\n",
            "dtype: float64\n"
          ]
        }
      ]
    },
    {
      "cell_type": "code",
      "source": [
        "# Calculate the relative closeness to the ideal solution\n",
        "relative_closeness = distance_to_negative_ideal / (distance_to_ideal + distance_to_negative_ideal)\n",
        "\n",
        "# Add the relative closeness to the dataframe\n",
        "df['Relative Closeness'] = relative_closeness\n",
        "\n",
        "# Sort the models by relative closeness (higher is better)\n",
        "sorted_df = df.sort_values(by='Relative Closeness', ascending=False)\n",
        "\n",
        "# Display the sorted results\n",
        "print(\"\\nSorted Models based on TOPSIS Method:\")\n",
        "print(sorted_df[['Model', 'Relative Closeness']])\n"
      ],
      "metadata": {
        "colab": {
          "base_uri": "https://localhost:8080/"
        },
        "id": "7eLQLY1H5pwv",
        "outputId": "2efa203d-4ded-44e9-94a0-54e84fbb26ad"
      },
      "execution_count": 15,
      "outputs": [
        {
          "output_type": "stream",
          "name": "stdout",
          "text": [
            "\n",
            "Sorted Models based on TOPSIS Method:\n",
            "    Model  Relative Closeness\n",
            "1  AKSHIT            0.633975\n",
            "0  KUSHAL            0.366025\n"
          ]
        }
      ]
    }
  ]
}